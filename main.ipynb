{
 "cells": [
  {
   "cell_type": "markdown",
   "metadata": {},
   "source": [
    "## Introduction and Data\n",
    "\n",
    "In this report, I aim to model exam scores both pre-COVID (when in-person examinations took place) and post-COVID (when exams were online). I collected data from [Course Results obtained from the LSE website](https://info.lse.ac.uk/staff/divisions/academic-registrars-division/systems/what-we-do/internal/degree-and-course-results). This included scores from the last 5 years (2016/17-2020/21). Different courses use different examination methods and will experience different impacts from COVID, particularly in 2020 when LT exams were held in-person but ST exams were not. I therefore founded my model parameters based on a few first-year BSc Economics courses: MA100, EC100, EC102, and ST102. These courses are all largely examined in the ST, and they have a large body of students taking them. The methods I use should be more broadly applicable, and I urge for a more comprehensive analysis to be done with a larger dataset."
   ]
  },
  {
   "cell_type": "markdown",
   "metadata": {},
   "source": [
    "## Distributions\n",
    "\n",
    "As my dataset did not contain the precise values of scores, I visually examined the score distribution density to identify a distribution type that would best suit the data. From my observation, the data is rather normally-distributed, but skewed slightly to the left. I've attached the distributions from these four courses below:\n",
    "|||\n",
    "|:--:|:--:|\n",
    "|MA100|ST102|\n",
    "|![MA100](images/MA100_graph.png)|![ST102](images/ST102_graph.png)|\n",
    "|EC100|EC102|\n",
    "|![EC100](images/EC100_graph.png)|![EC102](images/EC102_graph.png)|\n",
    "\n",
    "I recorded the $\\mu_x$, $median_x$, and $\\sigma_x$ for each course [here](data/score_data.csv). I averaged each of these properties to obtain a final $\\mu$, $median$, and $\\sigma$. For this model, I set the total population of students $(n) = 1000$\n",
    "\n",
    "As I did not have specific data regarding modes, I calculated the skewness factor using [Pearson's Median Skewness Coefficient](https://mathworld.wolfram.com/PearsonsSkewnessCoefficients.html), which considers mean, median, and standard deviation:\n",
    "\n",
    "$$\\frac{3(\\mu-median)}{\\sigma}$$\n",
    "\n",
    "I defined a function, `pearson_skew`, which can generate this.\n",
    "\n",
    "I used the `seaborn.stats.skewnorm.rvs` function to create distributions based on the $\\mu, \\sigma, \\& \\; n$ calculated. However, the arguments it takes (mean, standard deviation, and a skewness parameter) $\\neq$ the overall mean, standard deviation, and skewness of the resulting distribution. This is because the function skews the original Gaussian distribution, distorting the properties of the distribution.\n",
    "\n",
    "To resolve this, I defined a function which would check the output factors and modify the original argument parameters until it was correct within a number of decimal places defined as `acc`. As this is computationally cumbersome, I have set `acc` to 2. Any larger and it takes too long to process."
   ]
  },
  {
   "cell_type": "code",
   "execution_count": null,
   "metadata": {},
   "outputs": [],
   "source": [
    "#accuracy level, margin of error in decimal places\n",
    "acc = 2"
   ]
  },
  {
   "cell_type": "code",
   "execution_count": null,
   "metadata": {},
   "outputs": [],
   "source": [
    "def pearson_skew(mean, median, stdev):\n",
    "    return round(3*(mean-median)/stdev, acc)"
   ]
  },
  {
   "cell_type": "code",
   "execution_count": null,
   "metadata": {},
   "outputs": [],
   "source": [
    "def skew_norm(n, mean, stdev, median):\n",
    "    # create the skew coeff:\n",
    "    skew_coeff = pearson_skew(mean, median, stdev)\n",
    "    plot_mean = mean\n",
    "    plot_stdev = stdev\n",
    "    plot_skew = skew_coeff\n",
    "    \n",
    "    skew_dist = stats.skewnorm.rvs(a=plot_skew, size = n, loc = plot_mean, scale = plot_stdev)\n",
    "    \n",
    "    while(round(np.mean(skew_dist), acc) != mean or round(np.std(skew_dist), acc) != stdev or pearson_skew(np.mean(skew_dist), np.median(skew_dist), np.std(skew_dist))!= skew_coeff):\n",
    "        if(round(np.mean(skew_dist), acc) < mean):\n",
    "            plot_mean+=10**(-1*acc -1)\n",
    "        elif(round(np.mean(skew_dist), acc) > mean):\n",
    "            plot_mean-=10**(-1*acc -1)\n",
    "        if(round(np.std(skew_dist), acc) < stdev):\n",
    "            plot_stdev+=10**(-1*acc -1)\n",
    "        elif(round(np.std(skew_dist), acc) > stdev):\n",
    "            plot_stdev-=10**(-1*acc -1)\n",
    "        if(round(stats.skew(skew_dist), acc) < skew_coeff):\n",
    "            plot_skew+=10**(-1*acc -1)\n",
    "        elif(round(stats.skew(skew_dist), acc) > skew_coeff):\n",
    "            plot_skew-=10**(-1*acc -1)\n",
    "        skew_dist = stats.skewnorm.rvs(a=plot_skew, size = n, loc = plot_mean, scale = plot_stdev)\n",
    "    \n",
    "    return skew_dist"
   ]
  },
  {
   "cell_type": "markdown",
   "metadata": {},
   "source": [
    "data = pd.read_csv('data/score_data.csv')\n",
    "\n",
    "pre_covid = np.where(data['year'] < 2020)\n",
    "pc_data = data.loc[pre_covid]\n",
    "median = round(np.mean(pc_data['median']), acc)\n",
    "stdev = round(np.mean(pc_data['stdev']), acc)\n",
    "mean = round(np.mean(pc_data['mean']), acc)\n",
    "n = 1000\n",
    "first_mark = 70"
   ]
  }
 ],
 "metadata": {
  "interpreter": {
   "hash": "8b8334dab9339717f727a1deaf837b322d7a41c20d15cc86be99a8e69ceec8ce"
  },
  "kernelspec": {
   "display_name": "Python 3.8.12 64-bit ('3.8.12': pyenv)",
   "language": "python",
   "name": "python3"
  },
  "language_info": {
   "name": "python",
   "version": "3.8.12"
  },
  "orig_nbformat": 4
 },
 "nbformat": 4,
 "nbformat_minor": 2
}
