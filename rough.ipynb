{
 "cells": [
  {
   "cell_type": "code",
   "execution_count": 6,
   "metadata": {},
   "outputs": [],
   "source": [
    "import numpy as np\n",
    "import pandas as pd\n",
    "import scipy\n",
    "from scipy import stats\n",
    "import matplotlib.pyplot as plt\n",
    "import seaborn as sns"
   ]
  },
  {
   "cell_type": "markdown",
   "metadata": {},
   "source": [
    "Firstly, we need to set our parameters. What type of distributions do we use?\n",
    "\n",
    "## Econ Courses\n",
    "\n",
    "For EC100, appears to be a normal distribution with mean ~ 67, SD ~ 10.5.\n",
    "\n",
    "![images/EC100.png](images/EC100.png)\n",
    "\n",
    "EC102 has varied a lot more YoY, for reasons I am not too sure about. Pre-COVID, average was 65, post-COVID is 68-69. SD around 12.\n",
    "\n",
    "![images/EC102.png](images/EC102.png)\n",
    "\n",
    "## Maths Department\n",
    "\n",
    "MA100: seems to be very flat distribution, with varying means. Before COVID, mean was around 60%. Now 67% or more, 72% in 2021. SD 19 pre-COVID, 14 post-COVID.\n",
    "\n",
    "![images/MA100.png](images/MA100.png)\n",
    "\n",
    "MA107: mean around 68, SD around 17.\n",
    "\n",
    "![images/MA107.png](images/MA107.png)\n",
    "\n",
    "## Statistics\n",
    "\n",
    "For ST102, there was an anomaly in 2019/20. Otherwise, mean is 68, SD is 15-19 (say 17).\n",
    "\n",
    "![images/ST102.png](images/ST102.png)\n",
    "\n",
    "Based on the above, we set the variables below. That said, it really shouldn't matter. We can see that a lot of these distributions are roughly normal.\n",
    "\n",
    "Clear trends during online exams:\n",
    "- Greater $\\mu$, could be do to with 'easier' exams or collaboration increasing scores for some.\n",
    "- A smaller $\\sigma$ - less variance with the higher mean also means more people getting a first."
   ]
  },
  {
   "cell_type": "markdown",
   "metadata": {},
   "source": [
    "Because grade distributions are not perfectly symmetrical and normal, we will need to use a skewed normal distribution to simulate scores.\n",
    "\n",
    "To calculate the skew factor, I used the Pearson Median Skewness Coefficient. Median, mean and SD are provided in LSE's statistics data, so this was the most suitable.\n",
    "\n",
    "These distributions are negatively skewed (few people get 90+ scores and there is a tail on the left). I created the simple function below to brute force the best distribution given a median, $\\mu, $\\sigma$, and required size. The default is negatively skewed distributions, though this be modified through another argument.\n",
    "\n",
    "The distributions are generated through Seaborn's `skewnorm.rvs` function."
   ]
  },
  {
   "cell_type": "code",
   "execution_count": 7,
   "metadata": {},
   "outputs": [],
   "source": [
    "#accuracy level, margin of error in decimal places\n",
    "acc = 2"
   ]
  },
  {
   "cell_type": "code",
   "execution_count": 21,
   "metadata": {},
   "outputs": [],
   "source": [
    "def pearson_skew(mean, median, stdev):\n",
    "    return round(3*(mean-median)/stdev, acc)\n",
    "\n",
    "def skew_norm(n, mean, stdev, median):\n",
    "    # create the skew coeff:\n",
    "    skew_coeff = pearson_skew(mean, median, stdev)\n",
    "    plot_mean = mean\n",
    "    plot_stdev = stdev\n",
    "    plot_skew = skew_coeff\n",
    "    \n",
    "    skew_dist = stats.skewnorm.rvs(a=plot_skew, size = n, loc = plot_mean, scale = plot_stdev)\n",
    "    \n",
    "    while(round(np.mean(skew_dist), acc) != mean or round(np.std(skew_dist), acc) != stdev or pearson_skew(np.mean(skew_dist), np.median(skew_dist), np.std(skew_dist))!= skew_coeff):\n",
    "        if(round(np.mean(skew_dist), acc) < mean):\n",
    "            plot_mean+=10**(-1*acc -1)\n",
    "        elif(round(np.mean(skew_dist), acc) > mean):\n",
    "            plot_mean-=10**(-1*acc -1)\n",
    "        if(round(np.std(skew_dist), acc) < stdev):\n",
    "            plot_stdev+=10**(-1*acc -1)\n",
    "        elif(round(np.std(skew_dist), acc) > stdev):\n",
    "            plot_stdev-=10**(-1*acc -1)\n",
    "        if(round(stats.skew(skew_dist), acc) < skew_coeff):\n",
    "            plot_skew+=10**(-1*acc -1)\n",
    "        elif(round(stats.skew(skew_dist), acc) > skew_coeff):\n",
    "            plot_skew-=10**(-1*acc -1)\n",
    "        skew_dist = stats.skewnorm.rvs(a=plot_skew, size = n, loc = plot_mean, scale = plot_stdev)\n",
    "    \n",
    "    return skew_dist"
   ]
  },
  {
   "cell_type": "markdown",
   "metadata": {},
   "source": [
    "Analysis of Data to choose parameters"
   ]
  },
  {
   "cell_type": "code",
   "execution_count": 18,
   "metadata": {},
   "outputs": [],
   "source": [
    "data = pd.read_csv('data/score_data.csv')\n",
    "\n",
    "pre_covid = np.where(data['year'] < 2020)\n",
    "pc_data = data.loc[pre_covid]\n",
    "median = round(np.mean(pc_data['median']), acc)\n",
    "stdev = round(np.mean(pc_data['stdev']), acc)\n",
    "mean = round(np.mean(pc_data['mean']), acc)\n",
    "n = 1000\n",
    "first_mark = 70"
   ]
  },
  {
   "cell_type": "code",
   "execution_count": null,
   "metadata": {},
   "outputs": [],
   "source": [
    "init_scores = skew_norm(n=n, mean=mean, stdev=stdev, median=median)"
   ]
  },
  {
   "cell_type": "code",
   "execution_count": 15,
   "metadata": {},
   "outputs": [
    {
     "name": "stdout",
     "output_type": "stream",
     "text": [
      "Mean:  63.31019677642982\n",
      "Expected Mean:  63.31\n",
      "STD:  15.385086826763093\n",
      "Expected STD:  15.39\n",
      "Skew:  -0.24\n",
      "Expected Skew:  -0.24\n",
      "Median:  64.52174941954408\n",
      "Expected Median:  64.55\n"
     ]
    }
   ],
   "source": [
    "print('Mean: ', np.mean(dist))\n",
    "print('Expected Mean: ', mean)\n",
    "print('STD: ', np.std(dist))\n",
    "print('Expected STD: ', stdev)\n",
    "print('Skew: ', pearson_skew(mean=np.mean(dist), median=np.median(dist), stdev=np.std(dist)))\n",
    "print('Expected Skew: ', pearson_skew(mean=mean,median=median,stdev=stdev))\n",
    "print('Median: ', np.median(dist))\n",
    "print('Expected Median: ', median)"
   ]
  },
  {
   "cell_type": "code",
   "execution_count": 13,
   "metadata": {},
   "outputs": [
    {
     "data": {
      "text/plain": [
       "Text(0.5, 0, 'Exam Score')"
      ]
     },
     "execution_count": 13,
     "metadata": {},
     "output_type": "execute_result"
    },
    {
     "data": {
      "image/png": "[encoded data removed]",
      "text/plain": [
       "<Figure size 432x288 with 1 Axes>"
      ]
     },
     "metadata": {
      "needs_background": "light"
     },
     "output_type": "display_data"
    }
   ],
   "source": [
    "norm_exam_plt = sns.histplot(x=dist, binwidth = 2, kde = True, stat='count', label = 'Exam Dist')\n",
    "plt.vlines(first_mark, 0, 75, color='r', label='First', colors=\"r\", linestyles='dashed')\n",
    "plt.title('Exam Score Distribution')\n",
    "plt.xlabel('Exam Score')"
   ]
  },
  {
   "cell_type": "markdown",
   "metadata": {},
   "source": [
    "Extract the KDE so that we can calculate cumulative distributions and the like."
   ]
  },
  {
   "cell_type": "code",
   "execution_count": 20,
   "metadata": {},
   "outputs": [
    {
     "name": "stdout",
     "output_type": "stream",
     "text": [
      "0.9974713788675991\n"
     ]
    }
   ],
   "source": [
    "x = np.sort(dist)\n",
    "cdf_values = np.arange(n) / n\n",
    "first_cdf = np.interp(100,x, cdf_values)\n",
    "print(first_cdf)"
   ]
  },
  {
   "cell_type": "code",
   "execution_count": 1,
   "metadata": {},
   "outputs": [
    {
     "ename": "NameError",
     "evalue": "name 'sns' is not defined",
     "output_type": "error",
     "traceback": [
      "\u001b[0;31m---------------------------------------------------------------------------\u001b[0m",
      "\u001b[0;31mNameError\u001b[0m                                 Traceback (most recent call last)",
      "Input \u001b[0;32mIn [1]\u001b[0m, in \u001b[0;36m<module>\u001b[0;34m\u001b[0m\n\u001b[0;32m----> 1\u001b[0m \u001b[43msns\u001b[49m\u001b[38;5;241m.\u001b[39mecdfplot(data\u001b[38;5;241m=\u001b[39mnorm_exam)\n\u001b[1;32m      2\u001b[0m \u001b[38;5;66;03m# plt.vlines(first_mark, 0, 1, color='r', label='First', colors=\"r\", linestyles='dashed')\u001b[39;00m\n\u001b[1;32m      3\u001b[0m plt\u001b[38;5;241m.\u001b[39mplot([first_mark], [\u001b[38;5;241m1\u001b[39m\u001b[38;5;241m-\u001b[39mfirst_cdf], marker \u001b[38;5;241m=\u001b[39m \u001b[38;5;124m'\u001b[39m\u001b[38;5;124mo\u001b[39m\u001b[38;5;124m'\u001b[39m)\n",
      "\u001b[0;31mNameError\u001b[0m: name 'sns' is not defined"
     ]
    }
   ],
   "source": [
    "sns.ecdfplot(data=norm_exam)\n",
    "plt.vlines(first_mark, 0, 1, color='r', label='First', colors=\"r\", linestyles='dashed')\n",
    "plt.plot([first_mark], [1-first_cdf], marker = 'o')\n",
    "plt.hlines(y=1-first_cdf, xmin=np.interp(0, cdf_values, x), xmax=first_mark,colors='red',linestyles='dashed')\n",
    "plt.vlines(x=first_mark, ymin=0, ymax = 1-first_cdf, colors= 'red', linestyles='dashed')\n",
    "plt.margins(0)"
   ]
  },
  {
   "cell_type": "markdown",
   "metadata": {},
   "source": [
    "around 40% of students get a first with our current $\\mu$ and $\\sigma$"
   ]
  },
  {
   "cell_type": "markdown",
   "metadata": {},
   "source": [
    "With COVID, it seems we have two trends:\n",
    "- first, there has been an increase in the $\\mu$. This is possibly because of ease of exams now that students have access to course materials, but it may also be due to academic dishonesty - for example, as students collaborate, they bring up poorer performing student, or might be able to write better-prepared answers. It may also be a case of 'divide and conquer.'\n",
    "- Secondly, we see a lower SD. Access to course materials may mean lower threshold for writing good answers. There is also more time which will benefit those who are not as 'quick-thinking.' And as above, poorer-performing students who collaborate will be given a bridge to a better score, lowering the variance.\n",
    "\n",
    "To incorporate this into our model, we can create two distributions - one for standard students (with the preexisting mean and variance), and one for cheaters. We can assume an $x$ proportion of students cheat on their exams."
   ]
  },
  {
   "cell_type": "code",
   "execution_count": null,
   "metadata": {},
   "outputs": [],
   "source": [
    "prop_cheats = 0.2"
   ]
  },
  {
   "cell_type": "code",
   "execution_count": null,
   "metadata": {},
   "outputs": [],
   "source": [
    "cheat_mean = mean*1.1\n",
    "cheat_stdev = stdev*0.9\n",
    "\n",
    "# simulate cheat exams\n",
    "cheat_scores = stats.norm.rvs(size = round(n*prop_cheats), loc = cheat_mean, scale = cheat_stdev)\n",
    "\n",
    "# need to ensure that the values are within the parameters of our discussion; that is, exam score must be b/w 0 and 100. - this implementation might be slightly statistically flawed. alternative is to set all values below 0 to 0, all values above 100 to 100. \n",
    "for score in np.nditer(cheat_scores, op_flags=['readwrite']):\n",
    "    while score > 100.0:\n",
    "        x = stats.norm.rvs(loc = cheat_mean, scale = cheat_stdev, size = 1)\n",
    "        score[...] = np.mean(x)\n",
    "    while score <0:\n",
    "        x = stats.norm.rvs(loc = cheat_mean, scale = cheat_stdev, size = 1)\n",
    "        score[...] = np.mean(x)\n"
   ]
  },
  {
   "cell_type": "code",
   "execution_count": null,
   "metadata": {},
   "outputs": [],
   "source": [
    "honest_scores = stats.norm.rvs(size = round((1-prop_cheats)*n), loc = mean, scale = stdev)\n",
    "\n",
    "for score in np.nditer(honest_scores, op_flags=['readwrite']):\n",
    "    while score > 100.0:\n",
    "        x = stats.norm.rvs(loc = mean, scale = stdev, size = 1)\n",
    "        score[...] = np.mean(x)\n",
    "    while score <0:\n",
    "        x = stats.norm.rvs(loc = mean, scale = stdev, size = 1)\n",
    "        score[...] = np.mean(x)"
   ]
  },
  {
   "cell_type": "code",
   "execution_count": null,
   "metadata": {},
   "outputs": [],
   "source": [
    "sns.histplot([honest_scores, cheat_scores], binwidth=2, kde=True, stat = 'count', label = 'Exam Dist', palette = 'ocean', multiple = 'stack')\n",
    "plt.vlines(first_mark, 0, 75, color='r', label='First', colors=\"r\", linestyles='dashed')\n",
    "plt.legend(['Cheating Students', 'Honest Students', 'First Mark'], loc = 2)\n",
    "sns.despine()"
   ]
  },
  {
   "cell_type": "code",
   "execution_count": null,
   "metadata": {},
   "outputs": [],
   "source": [
    "total_scores = np.append(honest_scores, cheat_scores)\n",
    "sns.histplot(x=total_scores, binwidth=2, kde = True, stat = 'count', label = 'Exam Dist', color = 'darkgreen')\n",
    "plt.vlines(first_mark, 0, 75, color='r', label='First', colors=\"r\", linestyles='dashed')\n",
    "sns.despine()\n",
    "plt.legend(['All Students', 'First Mark'])"
   ]
  },
  {
   "cell_type": "markdown",
   "metadata": {},
   "source": [
    "Can see now a lot more students are getting firsts! Looks like > 50%, but we can confirm below:"
   ]
  },
  {
   "cell_type": "code",
   "execution_count": null,
   "metadata": {},
   "outputs": [],
   "source": [
    "all_x = np.sort(total_scores)\n",
    "all_cdf = np.arange(n) / n\n",
    "all_first = 1 - np.interp(first_mark,all_x,all_cdf)\n",
    "\n",
    "honest_x = np.sort(honest_scores)\n",
    "honest_cdf = np.arange((1-prop_cheats)*n)/((1-prop_cheats)*n)\n",
    "honest_first = 1- np.interp(first_mark, honest_x, honest_cdf)\n",
    "\n",
    "cheat_x = np.sort(cheat_scores)\n",
    "cheat_cdf = np.arange((prop_cheats)*n)/((prop_cheats)*n)\n",
    "cheat_first = 1- np.interp(first_mark, cheat_x, cheat_cdf)"
   ]
  },
  {
   "cell_type": "code",
   "execution_count": null,
   "metadata": {},
   "outputs": [],
   "source": [
    "plt.figure(figsize=(10,7))\n",
    "sns.ecdfplot([honest_scores,cheat_scores, total_scores])\n",
    "plt.vlines(x=first_mark, ymin=0, ymax = 1-honest_first, colors= 'purple', linestyles='dashed')\n",
    "plt.hlines(y=1-all_first, xmin=np.interp(0, all_cdf, all_x), xmax=first_mark,colors='green',linestyles='dashed')\n",
    "plt.hlines(y=1-honest_first, xmin=np.interp(0, all_cdf, all_x), xmax=first_mark,colors='blue',linestyles='dashed')\n",
    "plt.hlines(y=1-cheat_first, xmin=np.interp(0, all_cdf, all_x), xmax=first_mark,colors='darkorange',linestyles='dashed')\n",
    "plt.plot([first_mark], [1-all_first], marker = 'o', color = 'green', linestyle = 'dashed')\n",
    "plt.plot([first_mark], [1-honest_first], marker = 'o', color = 'blue', linestyle = 'dashed')\n",
    "plt.plot([first_mark], [1-cheat_first], marker = 'o', color = 'orange', linestyle = 'dashed')\n",
    "plt.margins(0)\n",
    "plt.legend(['All Students','Cheating Students','Honest Students', 'First Mark'])\n"
   ]
  },
  {
   "cell_type": "code",
   "execution_count": null,
   "metadata": {},
   "outputs": [],
   "source": [
    "print(str(round(100*all_first, 2)) + '% of all students get a first.')\n",
    "print(str(round(100*honest_first, 2)) + '% of honest students get a first.')\n",
    "print(str(round(100*cheat_first, 2)) + '% of cheat students get a first.')"
   ]
  },
  {
   "cell_type": "markdown",
   "metadata": {},
   "source": [
    "We can see here a great discrepancy between cheat scores and honest scores. The effect that this has on the total scores seems less profound, as the curve only slightly strays away from the honest curve (which should be similar to what we saw in the general example). However, we can clearly see that there is a significant amount of grade inflation. Previously, only 40% of students got firsts - now, it is 46%. I didn't add in one element which was regular students performing better too, possibly because of access to course materials. If we account for this:"
   ]
  },
  {
   "cell_type": "code",
   "execution_count": null,
   "metadata": {},
   "outputs": [],
   "source": [
    "new_honest_mean = 1.10*mean\n",
    "new_honest_stdev = 0.9*stdev\n",
    "new_cheat_mean = 1.1*new_honest_mean\n",
    "new_cheat_stdev = 0.9*new_honest_stdev\n",
    "\n",
    "new_honest_scores = stats.norm.rvs(size = round(n*(1-prop_cheats)), loc = new_honest_mean, scale = new_honest_stdev)\n",
    "new_cheat_scores = stats.norm.rvs(size = round(n*prop_cheats), loc = new_cheat_mean, scale = new_cheat_stdev)\n",
    "\n",
    "# need to ensure that the values are within the parameters of our discussion; that is, exam score must be b/w 0 and 100. - this implementation might be slightly statistically flawed. alternative is to set all values below 0 to 0, all values above 100 to 100. \n",
    "\n",
    "for score in np.nditer(new_honest_scores, op_flags=['readwrite']):\n",
    "    while score > 100.0:\n",
    "        x = stats.norm.rvs(loc = new_honest_mean, scale = new_honest_stdev, size = 1)\n",
    "        score[...] = np.mean(x)\n",
    "    while score <0:\n",
    "        x = stats.norm.rvs(loc = new_honest_mean, scale = new_honest_stdev, size = 1)\n",
    "        score[...] = np.mean(x)\n",
    "\n",
    "for score in np.nditer(new_cheat_scores, op_flags=['readwrite']):\n",
    "    while score > 100.0:\n",
    "        x = stats.norm.rvs(loc = new_cheat_mean, scale = new_cheat_stdev, size = 1)\n",
    "        score[...] = np.mean(x)\n",
    "    while score <0:\n",
    "        x = stats.norm.rvs(loc = new_cheat_mean, scale = new_cheat_stdev, size = 1)\n",
    "        score[...] = np.mean(x)\n",
    "\n",
    "new_total_scores = np.append(new_honest_scores, new_cheat_scores)\n",
    "\n",
    "sns.histplot([new_honest_scores, new_cheat_scores], binwidth=2, kde=True, stat = 'count', label = 'Exam Dist', palette = 'ocean', multiple = 'stack')\n",
    "plt.vlines(first_mark, 0, 75, color='r', label='First', colors=\"r\", linestyles='dashed')\n",
    "plt.legend(['Cheating Students', 'Honest Students', 'First Mark'], loc = 2)\n",
    "sns.despine()"
   ]
  },
  {
   "cell_type": "code",
   "execution_count": null,
   "metadata": {},
   "outputs": [],
   "source": [
    "new_all_x = np.sort(new_total_scores)\n",
    "new_all_cdf = np.arange(n) / n\n",
    "new_all_first = 1 - np.interp(first_mark,new_all_x,new_all_cdf)\n",
    "\n",
    "new_honest_x = np.sort(new_honest_scores)\n",
    "new_honest_cdf = np.arange((1-prop_cheats)*n)/((1-prop_cheats)*n)\n",
    "new_honest_first = 1- np.interp(first_mark, new_honest_x, new_honest_cdf)\n",
    "\n",
    "new_cheat_x = np.sort(new_cheat_scores)\n",
    "new_cheat_cdf = np.arange((prop_cheats)*n)/((prop_cheats)*n)\n",
    "new_cheat_first = 1- np.interp(first_mark, new_cheat_x, new_cheat_cdf)"
   ]
  },
  {
   "cell_type": "code",
   "execution_count": null,
   "metadata": {},
   "outputs": [],
   "source": [
    "plt.figure(figsize=(10,7))\n",
    "sns.ecdfplot([new_honest_scores,new_cheat_scores, new_total_scores])\n",
    "plt.vlines(x=first_mark, ymin=0, ymax = 1-new_honest_first, colors= 'purple', linestyles='dashed')\n",
    "plt.hlines(y=1-new_all_first, xmin=np.interp(0, new_all_cdf, new_all_x), xmax=first_mark,colors='green',linestyles='dashed')\n",
    "plt.hlines(y=1-new_honest_first, xmin=np.interp(0, new_all_cdf, new_all_x), xmax=first_mark,colors='blue',linestyles='dashed')\n",
    "plt.hlines(y=1-new_cheat_first, xmin=np.interp(0, new_all_cdf, new_all_x), xmax=first_mark,colors='darkorange',linestyles='dashed')\n",
    "plt.plot([first_mark], [1-new_all_first], marker = 'o', color = 'green', linestyle = 'dashed')\n",
    "plt.plot([first_mark], [1-new_honest_first], marker = 'o', color = 'blue', linestyle = 'dashed')\n",
    "plt.plot([first_mark], [1-new_cheat_first], marker = 'o', color = 'orange', linestyle = 'dashed')\n",
    "plt.margins(0)\n",
    "plt.legend(['All Students','Cheating Students','Honest Students', 'First Mark'])\n",
    "plt.title('Effects of Online Exams')"
   ]
  },
  {
   "cell_type": "code",
   "execution_count": null,
   "metadata": {},
   "outputs": [],
   "source": [
    "print('After COVID: \\n')\n",
    "print(str(round(100*new_all_first, 2)) + '% of all students get a first.')\n",
    "print(str(round(100*new_honest_first, 2)) + '% of honest students get a first.')\n",
    "print(str(round(100*new_cheat_first, 2)) + '% of cheat students get a first.')"
   ]
  },
  {
   "cell_type": "markdown",
   "metadata": {},
   "source": [
    "We can see pretty clearly now how grade inflation arises. Again, this is due to two forces that are both in play - firstly, honest students have more resources at hand, so they are able to perform better on exams. Previously, only 40% of students could achieve a first. Now, through just a 10% improvement in performance from this factor, 60% of honest students get firsts! Access to course materials and notes becomes a 'great equaliser' which reduces the SD, improving performance more than just the $\\mu$ itself.\n",
    "\n",
    "Secondly, students are cheating on exams. Though this is not all students, it is reasonable to assume that this occurs for a significant minority, which I have attributed to $var \\: prop\\_cheats = 0.2$. Because students collaborate, they are able to achieve results far better than honest students. Despite accounting for a small percentage, these students score so well that they bring up averages significantly. Though only 60% of honest students got a first, 65% of all students got a first - that's because almost all cheaters could get first.\n",
    "\n",
    "## Evaluation of the Model\n",
    "\n",
    "Is this model appropriate for measuring student performance? It is certainly a reasonable explanation for why exam scores have increased off late. Undeniably, students can perform better with resources and time at their disposal compared to in examination-hall conditions. There should also be no doubt that collaboration on examinations (which occurs in both timed and 24-hour assessments) will increase performance - more brains will translate to better scores.\n",
    "\n",
    "However, these results only apply for when online examinations are the same as their in-person counterparts. To what extent to these examinations differ, and how does it counter some of the effects we have seen above?\n",
    "\n",
    "### Differences between in-person and online examinations\n",
    "\n",
    "This is a question that LSE Exam boards and lecturers are more suited to answer. From my understanding, there are two types of exams:\n",
    "\n",
    "- **Timed exams**:  These are synchronous such that all students do them at the same time, with a limited time frame including a generous amount for submission on a portal. These do not differ much (if at all) from regular exams, as students are not expected to have enough time to reference course material (though this is not necessarily the case).\n",
    "- **24 Hour-Style Assessments**: These are to be taken with a longer window (often 24-hours) but the expected effort for these exams is far less. Many students will spend more than the expected effort on these exams.\n",
    "\n",
    "In both of these exams, the two phenonmenon previously discussed occur. Even in timed exams, students may have enough time to reference their course materials, especially because of the additional submission time. Students can also collaborate on timed exams by taking them at the same location concurrently. Though I have not looked at data of exmaination scores for primarily timed assessments, I would assume that there is some level of grade inflation in these, too.\n",
    "\n",
    "In 24-hour assessments, examiners can make the exam more difficult. However, some examples of this in MA107 and MA100 (see stats above) indicate that there is still some grade inflation occurring which the exam-writer has not been able to account for in the difficulty of the assessment. Students spend longer than the expected effort on these exams, which may be able to earn them a better score. Of course, cheating will still occur, too, if not be more rampant due to the longer timeframe.\n",
    "\n",
    "The question, then, is what to do about it? It is not just the LSE, keen on maintaining the school's reputation, which is interested in quashing grade inflation. Indeed, the [UK Government](https://www.gov.uk/government/news/universities-told-to-end-grade-inflation) has wanted to reduce grade inflation even before the COVID-era had begun.\n",
    "\n",
    "It is no easy question to answer. I'm sure the LSE has given this a lot of thought, particularly as the pandemic turned examinations online. It is difficult, if not near-on impossible, to develop examinations which are administered online and yet distinguish excelling students from mediocre ones who have a textbook open. This is especially true for timed exams, where the exam content is identical to that of an in-person exam. Examiners cannot write harder questions which require a further application of the course content to answer well.\n",
    "\n",
    "If the LSE wishes to assess students through an online medium, it may realise that exams are not necessarily the best mode for that. Though changing assessment types is very challenging to accomplish successfully (and not practical where last-minute changes occur such as in the recent examination window), an assessment like a report may be a better representation of a student's understanding than an online exam-like assessment.\n",
    "\n",
    "In these last-minute cases, however, there is not much the LSE can do. I imagine that the LSE has been reserving curving assessments as a tool of last-resort. Let me thus attempt to show the effects of assessment curves, who benefits, and who loses out.\n"
   ]
  },
  {
   "cell_type": "code",
   "execution_count": null,
   "metadata": {},
   "outputs": [],
   "source": [
    "# say the LSE wants to curve the exam so now only 50% of all people get a first. Before COVID, was ~ 40%. Increased after COVID substantially. "
   ]
  },
  {
   "cell_type": "code",
   "execution_count": null,
   "metadata": {},
   "outputs": [],
   "source": [
    "curve_first_mark = np.interp(0.5, new_all_cdf, new_all_x)\n",
    "print(curve_first_mark)"
   ]
  },
  {
   "cell_type": "code",
   "execution_count": null,
   "metadata": {},
   "outputs": [],
   "source": [
    "plt.figure(figsize=(10,7))\n",
    "sns.ecdfplot([new_honest_scores,new_cheat_scores, new_total_scores])\n",
    "plt.vlines(x=curve_first_mark, ymin=0, ymax = 0.5, colors= 'purple', linestyles='dashed')\n",
    "#plt.hlines(y=1-new_all_first, xmin=np.interp(0, new_all_cdf, new_all_x), xmax=first_mark,colors='green',linestyles='dashed')\n",
    "#plt.hlines(y=1-new_honest_first, xmin=np.interp(0, new_all_cdf, new_all_x), xmax=first_mark,colors='blue',linestyles='dashed')\n",
    "#plt.hlines(y=1-new_cheat_first, xmin=np.interp(0, new_all_cdf, new_all_x), xmax=first_mark,colors='darkorange',linestyles='dashed')\n",
    "# plt.plot([first_mark], [1-new_all_first], marker = 'o', color = 'green', linestyle = 'dashed')\n",
    "# plt.plot([first_mark], [1-new_honest_first], marker = 'o', color = 'blue', linestyle = 'dashed')\n",
    "# plt.plot([first_mark], [1-new_cheat_first], marker = 'o', color = 'orange', linestyle = 'dashed')\n",
    "plt.margins(0)\n",
    "plt.legend(['All Students','Cheating Students','Honest Students', 'First Mark'])\n",
    "plt.title('Effects of Online Exams')"
   ]
  },
  {
   "cell_type": "code",
   "execution_count": null,
   "metadata": {},
   "outputs": [],
   "source": []
  }
 ],
 "metadata": {
  "interpreter": {
   "hash": "8b8334dab9339717f727a1deaf837b322d7a41c20d15cc86be99a8e69ceec8ce"
  },
  "kernelspec": {
   "display_name": "Python 3.8.12 64-bit ('3.8.12': pyenv)",
   "language": "python",
   "name": "python3"
  },
  "language_info": {
   "codemirror_mode": {
    "name": "ipython",
    "version": 3
   },
   "file_extension": ".py",
   "mimetype": "text/x-python",
   "name": "python",
   "nbconvert_exporter": "python",
   "pygments_lexer": "ipython3",
   "version": "3.8.12"
  },
  "orig_nbformat": 4
 },
 "nbformat": 4,
 "nbformat_minor": 2
}
